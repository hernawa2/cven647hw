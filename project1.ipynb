{
 "cells": [
  {
   "cell_type": "code",
   "execution_count": 18,
   "id": "b4e46487",
   "metadata": {
    "scrolled": true
   },
   "outputs": [
    {
     "data": {
      "text/plain": [
       "3"
      ]
     },
     "execution_count": 18,
     "metadata": {},
     "output_type": "execute_result"
    }
   ],
   "source": [
    "import numpy as np\n",
    "import matplotlib.pyplot as plt\n",
    "import math\n",
    "from scipy.interpolate import interp1d\n",
    "#normalized p-y curves\n",
    "# y_norm=np.arange(0,10.1,0.1)\n",
    "# p_norm=np.zeros_like(y_norm)\n",
    "# for i,j in enumerate(y_norm): #ask\n",
    "#     if y_norm[i] <= 8:\n",
    "#         p_norm[i]=0.5*y_norm[i]**(1/3)\n",
    "#     else:\n",
    "#         p_norm[i]=0.5*8**(1/3) #P/P_ult\n",
    "# fnp=interp1d(y_norm,p_norm,kind='linear') #function to read P/P_ult\n",
    "#undrained shear strength profile\n",
    "d=np.arange(0,101,1) #divide pile length to 1 feet segment and 101 nodes\n",
    "s_u=100+10*d #calculate distribution of shear strength\n",
    "#calculate P_ult profile\n",
    "rho_soil_b=62.6 #effective unit weight (125-62.4) in psf\n",
    "d_m=3 #diameter of the pile\n",
    "n_p=3+(rho_soil_b*d/s_u)+(0.5*d/d_m) #calculate distribution of N_p\n",
    "n_p=np.where(n_p>9,9,n_p) #replacing Np>9 with 9\n",
    "p_ult=n_p*s_u*d_m #calculate distribution of P_ult in lb\n",
    "p_ult=p_ult.reshape(len(p_ult),1)\n",
    "#calculate y50 based on shear strength profile\n",
    "e50=[] #initialize empty array of e50\n",
    "s_u_si=s_u*0.04788025888888984 #convert shear strength profile psf to kN/m2\n",
    "#assigning e50 values depending on the shear strength (refer to table used)\n",
    "for i,j in enumerate(s_u_si):\n",
    "    if s_u_si[i]<=24:\n",
    "        e50.append(0.02)\n",
    "    elif s_u_si[i]>24 and s_u_si[i]<48:\n",
    "        e50.append(0.01)\n",
    "    else:\n",
    "        e50.append(0.006)\n",
    "e50=np.array(e50) #turn to array\n",
    "y50=e50*2.5*d_m #calculate y50 in feet\n",
    "#define acceptale tolerance\n",
    "tol=0.001*d_m #tolerance assigned of 0.1% of diameter\n",
    "k=np.array([0.0]*(len(d)**2)).reshape(len(d),len(d)) #initialize empty k stiffness\n",
    "#imposing BC Floating Pile and create stiffness matrix \n",
    "k[0,0]=1\n",
    "k[1,0],k[1,1],k[1,2]=1,-2,1\n",
    "k[len(k)-1,len(k)-1],k[len(k)-1,len(k)-2],k[len(k)-1,len(k)-3]=1,-2,1\n",
    "k[len(k)-2,len(k)-1],k[len(k)-2,len(k)-2],k[len(k)-2,len(k)-3],k[len(k)-2,len(k)-4]=1,-3,3,-1\n",
    "for i,j in enumerate(k[2:len(k)-2]):\n",
    "    k[i+2,i]=1\n",
    "    k[i+2,i+1]=-4\n",
    "    k[i+2,i+3]=-4\n",
    "    k[i+2,i+4]=1\n",
    "#define initial trial for displacement profile\n",
    "y0=2/12 #top displacement at 2 inch (converted to feet)\n",
    "# y=y0-(y0/max(d))*d #distribution of displacement along the pile\n",
    "# y[len(y)-1]=0.001 #assign 0.001 ft displacement at the tip\n",
    "# y_rat=y/y50 #ratio of y/y50 for calculation purposes\n",
    "temp_y=y0-(y0/max(d))*d #distribution of displacement along the pile\n",
    "temp_y[len(temp_y)-1]=0.001 #assign 0.001 ft displacement at the tip\n",
    "temp_y=temp_y.reshape(len(temp_y),1)\n",
    "delta_x=1#distance between nodes (ft) (consistent here)\n",
    "inertia_m=(math.pi/64)*((3**4)-(2.75**4)) #calculate I in ft^4\n",
    "e_mod=4176000000 #in psf\n",
    "load_v=np.array([0.0]*(len(d))).reshape(len(d),1) #initialize empty k stiffness\n",
    "load_v[0]=np.float64(y0) #assigning boundary condition to the load vector\n",
    "#calculate new p\n",
    "# p_n=p_ult*0.5*(y_rat)**(1/3) #compute p along the depth of the pile using y trial\n",
    "# k_s=p_n/abs(y) #compute stiffness per nodes based on p_n and y in lb/ft\n",
    "# #p=fnp(y_rat)*p_ult\n",
    "# #reiterate diagonal (put to iterative loop)\n",
    "# for i,j in enumerate(k[2:len(k)-2]):\n",
    "#     k[i+2,i+2]=6+(k_s[i+2]*(delta_x**4))/(inertia_m*e_mod)\n",
    "# temp_y=np.linalg.solve(k,load_v)\n",
    "# diff=np.asarray(abs(temp_y-(y.reshape(len(y),1))))\n",
    "# p_ult=p_ult.reshape(len(p_ult),1)\n",
    "## Main Iterative Loop ##\n",
    "counter=0\n",
    "while counter<50:\n",
    "    counter+=1\n",
    "    y_ratn=temp_y/y50.reshape(len(y50),1)\n",
    "    y_ratn=y_ratn.reshape(len(y_ratn),1)\n",
    "    p_n=p_ult*0.5*(abs(y_ratn))**(1/3)\n",
    "    k_s=p_n/abs(temp_y)\n",
    "    for i,j in enumerate(k[2:len(k)-2]):\n",
    "        k[i+2,i+2]=6+(k_s[i+2]*(delta_x**4))/(inertia_m*e_mod)\n",
    "    new_y=np.linalg.solve(k,load_v)\n",
    "    diff=np.asarray(abs(new_y-temp_y))\n",
    "    if max(diff)>tol:\n",
    "        temp_y=new_y\n",
    "    elif max(diff)<=tol:\n",
    "        break\n",
    "        \n",
    "# new_y\n",
    "counter"
   ]
  },
  {
   "cell_type": "code",
   "execution_count": 21,
   "id": "64b17af5",
   "metadata": {
    "scrolled": true
   },
   "outputs": [
    {
     "data": {
      "text/plain": [
       "[<matplotlib.lines.Line2D at 0x1a28aaf83a0>]"
      ]
     },
     "execution_count": 21,
     "metadata": {},
     "output_type": "execute_result"
    },
    {
     "data": {
      "image/png": "[encoded data removed]",
      "text/plain": [
       "<Figure size 432x288 with 1 Axes>"
      ]
     },
     "metadata": {
      "needs_background": "light"
     },
     "output_type": "display_data"
    }
   ],
   "source": [
    "plt.ylim(max(d),0)\n",
    "# plt.xlim(-0.5,0.5)\n",
    "x=[0]*len(d)\n",
    "plt.plot(x,d,'k')\n",
    "plt.plot(new_y*12,d)\n"
   ]
  },
  {
   "cell_type": "code",
   "execution_count": 22,
   "id": "55584e25",
   "metadata": {},
   "outputs": [
    {
     "data": {
      "text/plain": [
       "array([[ 1.66666667e-01],\n",
       "       [ 1.60573519e-01],\n",
       "       [ 1.54480372e-01],\n",
       "       [ 1.48398875e-01],\n",
       "       [ 1.42340514e-01],\n",
       "       [ 1.36316580e-01],\n",
       "       [ 1.30338135e-01],\n",
       "       [ 1.24415973e-01],\n",
       "       [ 1.18560596e-01],\n",
       "       [ 1.12782173e-01],\n",
       "       [ 1.07090515e-01],\n",
       "       [ 1.01495034e-01],\n",
       "       [ 9.60047221e-02],\n",
       "       [ 9.06281117e-02],\n",
       "       [ 8.53732518e-02],\n",
       "       [ 8.02476762e-02],\n",
       "       [ 7.52583766e-02],\n",
       "       [ 7.04117910e-02],\n",
       "       [ 6.57137948e-02],\n",
       "       [ 6.11696927e-02],\n",
       "       [ 5.67842126e-02],\n",
       "       [ 5.25614999e-02],\n",
       "       [ 4.85051136e-02],\n",
       "       [ 4.46180233e-02],\n",
       "       [ 4.09026082e-02],\n",
       "       [ 3.73606565e-02],\n",
       "       [ 3.39933670e-02],\n",
       "       [ 3.08013517e-02],\n",
       "       [ 2.77846395e-02],\n",
       "       [ 2.49426820e-02],\n",
       "       [ 2.22743601e-02],\n",
       "       [ 1.97779924e-02],\n",
       "       [ 1.74513448e-02],\n",
       "       [ 1.52916420e-02],\n",
       "       [ 1.32955800e-02],\n",
       "       [ 1.14593407e-02],\n",
       "       [ 9.77860743e-03],\n",
       "       [ 8.24858290e-03],\n",
       "       [ 6.86400823e-03],\n",
       "       [ 5.61918409e-03],\n",
       "       [ 4.50799367e-03],\n",
       "       [ 3.52392780e-03],\n",
       "       [ 2.66011238e-03],\n",
       "       [ 1.90925164e-03],\n",
       "       [ 1.26367046e-03],\n",
       "       [ 7.15362488e-04],\n",
       "       [ 2.56046517e-04],\n",
       "       [-1.22763128e-04],\n",
       "       [-4.29657041e-04],\n",
       "       [-6.73135600e-04],\n",
       "       [-8.60441759e-04],\n",
       "       [-9.98328871e-04],\n",
       "       [-1.09310731e-03],\n",
       "       [-1.15065732e-03],\n",
       "       [-1.17643525e-03],\n",
       "       [-1.17547875e-03],\n",
       "       [-1.15241280e-03],\n",
       "       [-1.11145714e-03],\n",
       "       [-1.05643523e-03],\n",
       "       [-9.90784853e-04],\n",
       "       [-9.17570295e-04],\n",
       "       [-8.39495908e-04],\n",
       "       [-7.58921096e-04],\n",
       "       [-6.77876501e-04],\n",
       "       [-5.98081309e-04],\n",
       "       [-5.20961523e-04],\n",
       "       [-4.47669076e-04],\n",
       "       [-3.79101650e-04],\n",
       "       [-3.15923045e-04],\n",
       "       [-2.58583963e-04],\n",
       "       [-2.07343049e-04],\n",
       "       [-1.62288048e-04],\n",
       "       [-1.23356900e-04],\n",
       "       [-9.03586398e-05],\n",
       "       [-6.29939198e-05],\n",
       "       [-4.08749975e-05],\n",
       "       [-2.35450247e-05],\n",
       "       [-1.04964683e-05],\n",
       "       [-1.18849863e-06],\n",
       "       [ 4.93681699e-06],\n",
       "       [ 8.43966925e-06],\n",
       "       [ 9.86915159e-06],\n",
       "       [ 9.75150531e-06],\n",
       "       [ 8.58001843e-06],\n",
       "       [ 6.80649969e-06],\n",
       "       [ 4.83390908e-06],\n",
       "       [ 3.00859111e-06],\n",
       "       [ 1.60421604e-06],\n",
       "       [ 5.91804942e-07],\n",
       "       [-8.56226149e-08],\n",
       "       [-4.92604076e-07],\n",
       "       [-6.92712196e-07],\n",
       "       [-7.44186984e-07],\n",
       "       [-6.96259541e-07],\n",
       "       [-5.87961012e-07],\n",
       "       [-4.47931903e-07],\n",
       "       [-2.94978230e-07],\n",
       "       [-1.39280563e-07],\n",
       "       [ 1.57617450e-08],\n",
       "       [ 1.70804053e-07],\n",
       "       [ 3.25846360e-07]])"
      ]
     },
     "execution_count": 22,
     "metadata": {},
     "output_type": "execute_result"
    }
   ],
   "source": [
    "new_y"
   ]
  },
  {
   "cell_type": "code",
   "execution_count": null,
   "id": "5bcf70b8",
   "metadata": {},
   "outputs": [],
   "source": []
  }
 ],
 "metadata": {
  "kernelspec": {
   "display_name": "Python 3",
   "language": "python",
   "name": "python3"
  },
  "language_info": {
   "codemirror_mode": {
    "name": "ipython",
    "version": 3
   },
   "file_extension": ".py",
   "mimetype": "text/x-python",
   "name": "python",
   "nbconvert_exporter": "python",
   "pygments_lexer": "ipython3",
   "version": "3.8.8"
  }
 },
 "nbformat": 4,
 "nbformat_minor": 5
}
