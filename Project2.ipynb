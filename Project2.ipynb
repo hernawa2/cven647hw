{
 "cells": [
  {
   "cell_type": "code",
   "execution_count": 15,
   "metadata": {},
   "outputs": [],
   "source": [
    "# FEM Mesh Generation\n",
    "import numpy as np\n",
    "import matplotlib.pyplot as plt\n",
    "#number of loaded elements \n",
    "#(has to be less than number of element column wise) or radius\n",
    "nf=6\n",
    "w=1 #weights\n",
    "n=4 #number of nodes per element\n",
    "# col=31 #number of column of nodes\n",
    "# row=31 #number of row of nodes\n",
    "# a=1\n",
    "# b=1\n",
    "col=10*nf+1 #number of column of nodes\n",
    "row=10*nf+1 #number of row of nodes\n",
    "a=(10*nf)/(2*(row-1)) #half element width\n",
    "b=(10*nf)/(2*(col-1)) #half element height\n",
    "tot_el=(col-1)*(row-1) #total number of element\n",
    "E=10**5 #psf\n",
    "E_grad=5000 #psf/ft\n",
    "mu=0.35\n",
    "p=400 #applied pressure\n",
    "theta=2*np.pi\n",
    "rg=np.array([1/np.sqrt(3),-1/np.sqrt(3),-1/np.sqrt(3),1/np.sqrt(3)])\n",
    "sg=np.array([1/np.sqrt(3),1/np.sqrt(3),-1/np.sqrt(3),-1/np.sqrt(3)])\n",
    "#Constructing global X-Y coordinates\n",
    "xglobal=np.array([0.0]*(row**2))\n",
    "yglobal=np.array([0.0]*(col**2))\n",
    "#Mesh generator\n",
    "#Assigning x-cordinate and y-ccordinate to the nodes\n",
    "for i in range(1,row+1):\n",
    "    for j in range(1,col+1):\n",
    "        node=(j-1)*row+i\n",
    "        xglobal[node-1]=(j-1)*2*a\n",
    "        yglobal[node-1]=(i-1)*2*b\n",
    "yglobal=-yglobal #convert to right hand coordinate system\n",
    "\n",
    "#Connectivity Matrix (relating local to global (nodes) coordinate)\n",
    "connect=np.array([0]*(tot_el*4)).reshape(tot_el,4)\n",
    "el_num=0\n",
    "for i in range(1,col):\n",
    "    for j in range(1,row):\n",
    "        el_num+=1\n",
    "        connect[el_num-1,0]=i*row+j\n",
    "        connect[el_num-1,1]=(i-1)*row+j\n",
    "        connect[el_num-1,2]=(i-1)*row+j+1\n",
    "        connect[el_num-1,3]=i*row+j+1"
   ]
  },
  {
   "cell_type": "code",
   "execution_count": 16,
   "metadata": {},
   "outputs": [],
   "source": [
    "#C-matrix\n",
    "def cmat(ylocal,r,s,mu):\n",
    "    c_cons=np.array([0.0]*(4*4)).reshape(4,4)\n",
    "    c_cons[0,0],c_cons[0,1],c_cons[0,3]=1,mu/(1-mu),mu/(1-mu)\n",
    "    c_cons[1,0],c_cons[1,1],c_cons[1,3]=mu/(1-mu),1,mu/(1-mu)\n",
    "    c_cons[2,2]=(1-2*mu)/(2*(1-mu))\n",
    "    c_cons[3,0],c_cons[3,1],c_cons[3,3]=mu/(1-mu),mu/(1-mu),1\n",
    "    const=(1-mu)/((1+mu)*(1-2*mu))\n",
    "    def f_i(r,s):\n",
    "        h=[0.25*(1+r)*(1+s),0.25*(1-r)*(1+s),0.25*(1-r)*(1-s),0.25*(1+r)*(1-s)]\n",
    "        return h\n",
    "    mod=E-(E_grad*(np.matmul((np.array(f_i(r,s)).reshape(1,len(f_i(r,s)))),\n",
    "                                               (ylocal.reshape(len(ylocal),1)))))\n",
    "    c_cons=mod*const*c_cons\n",
    "    return c_cons\n"
   ]
  },
  {
   "cell_type": "code",
   "execution_count": 17,
   "metadata": {
    "scrolled": false
   },
   "outputs": [],
   "source": [
    "#Construct B-matrix\n",
    "def bmat(r,s,n,a,b,xlocal):\n",
    "    #interpolating function    \n",
    "    h=[0.25*(1+r)*(1+s),0.25*(1-r)*(1+s),0.25*(1-r)*(1-s),0.25*(1+r)*(1-s)]\n",
    "    #initialize empty B array\n",
    "    B_diff=np.array([0.0]*(n*2*4)).reshape(4,n*2)\n",
    "    #define derivative in r,s\n",
    "    dhr=[0.25*(1+s),-0.25*(1+s),-0.25*(1-s),0.25*(1-s)]\n",
    "    dhs=[0.25*(1+r),0.25*(1-r),-0.25*(1-r),-0.25*(1+r)]\n",
    "    #define derivative in x,y\n",
    "    dhx=[(1/a)*dhr[0],(1/a)*dhr[1],(1/a)*dhr[2],(1/a)*dhr[3]]\n",
    "    dhy=[(1/b)*dhs[0],(1/b)*dhs[1],(1/b)*dhs[2],(1/b)*dhs[3]]\n",
    "    #B-matrix component\n",
    "    for i in range(1,5):\n",
    "        B_diff[0,2*i-2]=dhx[i-1]\n",
    "        B_diff[1,2*i-1]=dhy[i-1]\n",
    "        B_diff[2,2*i-2]=dhy[i-1]\n",
    "        B_diff[2,2*i-1]=dhx[i-1]\n",
    "        B_diff[3,2*i-2]=h[i-1]/(np.matmul((np.array(h).reshape(1,len(h))),\n",
    "                                          (xlocal.reshape(len(xlocal),1))))\n",
    "    return B_diff"
   ]
  },
  {
   "cell_type": "code",
   "execution_count": 18,
   "metadata": {},
   "outputs": [],
   "source": [
    "#assemble element matrix\n",
    "ke=np.array([0.0]*(n**3)).reshape(2*n,2*n)\n",
    "for k in range(tot_el):\n",
    "    for r in range(len(rg)):\n",
    "        for s in range(len(sg)):\n",
    "            for i in range(1,5):\n",
    "                xlocal=np.array([0]*(4))\n",
    "                ylocal=np.array([0]*(4))\n",
    "                node=connect[k,i-1]\n",
    "                xlocal[i-1]=xglobal[node-1]\n",
    "                ylocal[i-1]=yglobal[node-1]\n",
    "            r_1=rg[r]\n",
    "            s_1=sg[s]\n",
    "            h=[0.25*(1+r_1)*(1+s_1),0.25*(1-r_1)*(1+s_1),0.25*(1-r_1)*(1-s_1),0.25*(1+r_1)\n",
    "               *(1-s_1)]\n",
    "            h=np.array((h)).reshape(1,4)\n",
    "            x_gauss=np.matmul(h,xlocal.reshape(4,1))\n",
    "            t=x_gauss*theta\n",
    "            ke=ke+(np.matmul((np.matmul(np.transpose(bmat(rg[r],sg[s],n,a,b,xlocal)),\n",
    "                                       cmat(ylocal,rg[r],sg[s],mu))),\n",
    "                            bmat(rg[r],sg[s],n,a,b,xlocal))*a*b*w*t)"
   ]
  },
  {
   "cell_type": "code",
   "execution_count": 19,
   "metadata": {},
   "outputs": [],
   "source": [
    "#assemble global stiffness matrix\n",
    "ndof_elem=8 #number of degree of freedom per element\n",
    "size_kg=2*col*row #number of element per row and column\n",
    "#initialize empty global stiffness matrix\n",
    "kg=np.array([0.0]*(size_kg**2)).reshape(size_kg,size_kg) \n",
    "gdof=np.array([0]*(8)) #initialize holder for global dof\n",
    "for elnum in range(tot_el): \n",
    "    for i in range(4):\n",
    "        gdof[2*i]=2*connect[elnum,i]-1\n",
    "        gdof[2*i+1]=2*connect[elnum,i]\n",
    "    for j in range(ndof_elem):\n",
    "        for k in range(ndof_elem):\n",
    "            kg[gdof[j]-1,gdof[k]-1]=kg[gdof[j]-1,gdof[k]-1]+ke[j,k]"
   ]
  },
  {
   "cell_type": "code",
   "execution_count": 20,
   "metadata": {},
   "outputs": [],
   "source": [
    "#impose boundary condition and construct load vector\n",
    "#imposing constraint on the center of system (x-dir)\n",
    "for node in range(col):\n",
    "    dof=2*node\n",
    "    kg[dof,:], kg[:,dof]=0,0\n",
    "    kg[dof,dof]=1\n",
    "#imposing constraint on far-field boundary (right)\n",
    "for node in range((row-1)*col,row*col):\n",
    "    #X-DOF\n",
    "    dof_x=2*node\n",
    "    kg[dof_x,:]=0\n",
    "    kg[:,dof_x]=0\n",
    "    kg[dof_x,dof_x]=1\n",
    "    #Y_DOF\n",
    "    dof_y=2*node+1\n",
    "    kg[dof_y,:]=0\n",
    "    kg[:,dof_y]=0\n",
    "    kg[dof_y,dof_y]=1\n",
    "for node in range(col-1,col*row,col):\n",
    "    dof=2*node+1\n",
    "    kg[dof,:]=0\n",
    "    kg[:,dof]=0\n",
    "    kg[dof,dof]=1  \n",
    "\n",
    "#constructing load vector (Need fixing)\n",
    "load_vec=np.array([0.0]*(size_kg)).reshape(size_kg,1) #initialize empty load vector\n",
    "counter=1\n",
    "for elnum in range(0,(nf-1)*(row-1)+1,(row-1)):\n",
    "    ry_1=(4/3)*p*theta*a**2+(1/2)*a*p*theta*((2*counter-1)*a-a)\n",
    "    ry_2=(2/3)*p*theta*a**2+(1/2)*a*p*theta*((2*counter-1)*a-a)\n",
    "    nodeg_one=connect[elnum,0]\n",
    "    dofg_one=2*nodeg_one-1\n",
    "    load_vec[dofg_one]=load_vec[dofg_one]+ry_1\n",
    "    nodeg_two=connect[elnum,1]\n",
    "    dofg_two=2*nodeg_two-1\n",
    "    load_vec[dofg_two]=load_vec[dofg_two]+ry_2\n",
    "    counter+=1"
   ]
  },
  {
   "cell_type": "code",
   "execution_count": 21,
   "metadata": {},
   "outputs": [],
   "source": [
    "nodal_u=np.linalg.solve(kg,-load_vec) #assign negative direction for load vector"
   ]
  },
  {
   "cell_type": "code",
   "execution_count": 22,
   "metadata": {},
   "outputs": [],
   "source": [
    "#post-processing\n",
    "nodal_ux=nodal_u[::2] #extract nodal displacement in horizontal dir\n",
    "nodal_uy=nodal_u[1::2] #extract nodal displacement in vertical dir\n",
    "loc_x=np.array([0.0]*(n)) #initialize empty vector for local x-disp.\n",
    "loc_y=np.array([0.0]*(n)) #initialize empty vector for local y-disp.\n",
    "disp=np.array([0.0]*(2*n)) #initialize empty vector for local combined disp.\n",
    "stress=np.array([0.0]*(4*tot_el)).reshape(4,tot_el) #initialize empty vector for stress tensor\n",
    "for elnum in range(tot_el):\n",
    "    for i in range(4):\n",
    "        loc_x[i]=nodal_ux[connect[elnum,i]-1] #relating global DOF to local DOF\n",
    "        loc_y[i]=nodal_uy[connect[elnum,i]-1] #relating global DOF to local DOF\n",
    "        for k in range(len(loc_x)):\n",
    "            disp[2*k]=loc_x[k] #assemble complete disp. matrix\n",
    "            disp[2*k+1]=loc_y[k]\n",
    "        el_strain=np.matmul(bmat(0,0,n,a,b,loc_x),disp).reshape(np.int(len(disp)/2),1) #calculate element strain\n",
    "        stress[:,elnum]=np.matmul(cmat(loc_y,0,0,mu),el_strain).reshape(4,) #calculate element stress"
   ]
  },
  {
   "cell_type": "code",
   "execution_count": 23,
   "metadata": {},
   "outputs": [
    {
     "data": {
      "image/png": "[encoded data removed]",
      "text/plain": [
       "<Figure size 432x288 with 1 Axes>"
      ]
     },
     "metadata": {
      "needs_background": "light"
     },
     "output_type": "display_data"
    }
   ],
   "source": [
    "#plotting meshgrid\n",
    "mean_stress=(stress[0,:]+stress[1,:]+stress[2,:])/3\n",
    "mean_stress=mean_stress.reshape(tot_el,1)\n",
    "C=(stress[0,:]+stress[1,:])*0.5\n",
    "c_1=abs((stress[0,:]-stress[1,:])*0.5)\n",
    "c_2=(stress[2,:])**2\n",
    "R=np.sqrt(c_1+c_2)\n",
    "sigma_1=C+R\n",
    "sigma_2=stress[1,:]\n",
    "sigma_3=C-R\n",
    "a=1\n",
    "oc=(1/3)*np.sqrt((sigma_1-sigma_2)**2+(sigma_2-sigma_3)**2 + (sigma_3-sigma_1)**2)\n",
    "pore_p=oc*a\n",
    "pore_p=pore_p.reshape(tot_el,1)\n",
    "x=np.arange(1,row,1)\n",
    "y=np.flip(np.arange(1,col,1))\n",
    "X, Y=np.meshgrid(x,y)\n",
    "Z=np.transpose(pore_p.reshape(row-1,col-1))\n",
    "# Z=np.transpose(mean_stress.reshape(row-1,col-1))\n",
    "# Z=np.transpose(stress[1,:].reshape(row-1,col-1))\n",
    "CS = plt.contourf(X, Y, Z, alpha= 1)\n",
    "nm, lbl = CS.legend_elements()\n",
    "# lbl[0]='$0.09$'\n",
    "# lbl[1]='$0.075$'\n",
    "# lbl[2]='$0.06$'\n",
    "# lbl[3]='$0.045$'\n",
    "# lbl[4]='$0.03$'\n",
    "# lbl[5]='$0.015$'\n",
    "# lbl[6]='$0$'\n",
    "# # lbl[7]='$57613.168$'\n",
    "# # lbl[8]='$57613.165$'\n",
    "# lbl=lbl[::-1]\n",
    "# plt.legend(nm,lbl,title= 'Stress Field (psf)', \n",
    "#            fontsize= 8,fancybox=True,bbox_to_anchor=(1.31, 1))\n",
    "# plt.legend(nm[::-1],lbl[::-1],title= 'Stress Field (psf)', \n",
    "#            fontsize= 8,fancybox=True,bbox_to_anchor=(1.43, 1))\n",
    "plt.xticks(fontsize=16)\n",
    "plt.yticks(fontsize=16)\n",
    "plt.xlabel('X (Length of symmetrical right domain, ft)',fontsize=16)\n",
    "plt.ylabel('Y (Depth of analysis, ft)',fontsize=16)\n",
    "plt.savefig('1.png', bbox_inches='tight', dpi=600)\n",
    "plt.show()"
   ]
  },
  {
   "cell_type": "code",
   "execution_count": 27,
   "metadata": {},
   "outputs": [
    {
     "data": {
      "text/plain": [
       "array([ 0.00000000e+00,  0.00000000e+00,  1.70495867e-09, -3.62589881e-08,\n",
       "        1.34204055e-08,  0.00000000e+00,  0.00000000e+00,  0.00000000e+00])"
      ]
     },
     "execution_count": 27,
     "metadata": {},
     "output_type": "execute_result"
    }
   ],
   "source": [
    "np.array([x for y in zip(loc_x, loc_y) for x in y])"
   ]
  },
  {
   "cell_type": "code",
   "execution_count": 28,
   "metadata": {},
   "outputs": [],
   "source": [
    "surface_disp=np.array([0.0]*(col))\n",
    "for i in range(col):\n",
    "    surface_disp[i]=nodal_uy[col*i]"
   ]
  },
  {
   "cell_type": "code",
   "execution_count": 29,
   "metadata": {},
   "outputs": [
    {
     "ename": "ValueError",
     "evalue": "x and y must have same first dimension, but have shapes (121,) and (11,)",
     "output_type": "error",
     "traceback": [
      "\u001b[1;31m---------------------------------------------------------------------------\u001b[0m",
      "\u001b[1;31mValueError\u001b[0m                                Traceback (most recent call last)",
      "\u001b[1;32m<ipython-input-29-2bf0fc6db482>\u001b[0m in \u001b[0;36m<module>\u001b[1;34m\u001b[0m\n\u001b[0;32m      1\u001b[0m \u001b[0mx\u001b[0m\u001b[1;33m=\u001b[0m\u001b[0mnp\u001b[0m\u001b[1;33m.\u001b[0m\u001b[0marange\u001b[0m\u001b[1;33m(\u001b[0m\u001b[1;36m1\u001b[0m\u001b[1;33m,\u001b[0m\u001b[1;36m122\u001b[0m\u001b[1;33m,\u001b[0m\u001b[1;36m1\u001b[0m\u001b[1;33m)\u001b[0m\u001b[1;33m\u001b[0m\u001b[1;33m\u001b[0m\u001b[0m\n\u001b[1;32m----> 2\u001b[1;33m \u001b[0mplt\u001b[0m\u001b[1;33m.\u001b[0m\u001b[0mplot\u001b[0m\u001b[1;33m(\u001b[0m\u001b[0mx\u001b[0m\u001b[1;33m,\u001b[0m\u001b[0msurface_disp\u001b[0m\u001b[1;33m)\u001b[0m\u001b[1;33m\u001b[0m\u001b[1;33m\u001b[0m\u001b[0m\n\u001b[0m\u001b[0;32m      3\u001b[0m \u001b[0mplt\u001b[0m\u001b[1;33m.\u001b[0m\u001b[0mxticks\u001b[0m\u001b[1;33m(\u001b[0m\u001b[0mfontsize\u001b[0m\u001b[1;33m=\u001b[0m\u001b[1;36m16\u001b[0m\u001b[1;33m)\u001b[0m\u001b[1;33m\u001b[0m\u001b[1;33m\u001b[0m\u001b[0m\n\u001b[0;32m      4\u001b[0m \u001b[0mplt\u001b[0m\u001b[1;33m.\u001b[0m\u001b[0myticks\u001b[0m\u001b[1;33m(\u001b[0m\u001b[0mfontsize\u001b[0m\u001b[1;33m=\u001b[0m\u001b[1;36m16\u001b[0m\u001b[1;33m)\u001b[0m\u001b[1;33m\u001b[0m\u001b[1;33m\u001b[0m\u001b[0m\n\u001b[0;32m      5\u001b[0m \u001b[0mplt\u001b[0m\u001b[1;33m.\u001b[0m\u001b[0mxlabel\u001b[0m\u001b[1;33m(\u001b[0m\u001b[1;34m'X (Length of symmetrical right domain, ft)'\u001b[0m\u001b[1;33m,\u001b[0m\u001b[0mfontsize\u001b[0m\u001b[1;33m=\u001b[0m\u001b[1;36m16\u001b[0m\u001b[1;33m)\u001b[0m\u001b[1;33m\u001b[0m\u001b[1;33m\u001b[0m\u001b[0m\n",
      "\u001b[1;32m~\\Anaconda3\\lib\\site-packages\\matplotlib\\pyplot.py\u001b[0m in \u001b[0;36mplot\u001b[1;34m(scalex, scaley, data, *args, **kwargs)\u001b[0m\n\u001b[0;32m   2794\u001b[0m     return gca().plot(\n\u001b[0;32m   2795\u001b[0m         *args, scalex=scalex, scaley=scaley, **({\"data\": data} if data\n\u001b[1;32m-> 2796\u001b[1;33m         is not None else {}), **kwargs)\n\u001b[0m\u001b[0;32m   2797\u001b[0m \u001b[1;33m\u001b[0m\u001b[0m\n\u001b[0;32m   2798\u001b[0m \u001b[1;33m\u001b[0m\u001b[0m\n",
      "\u001b[1;32m~\\Anaconda3\\lib\\site-packages\\matplotlib\\axes\\_axes.py\u001b[0m in \u001b[0;36mplot\u001b[1;34m(self, scalex, scaley, data, *args, **kwargs)\u001b[0m\n\u001b[0;32m   1663\u001b[0m         \"\"\"\n\u001b[0;32m   1664\u001b[0m         \u001b[0mkwargs\u001b[0m \u001b[1;33m=\u001b[0m \u001b[0mcbook\u001b[0m\u001b[1;33m.\u001b[0m\u001b[0mnormalize_kwargs\u001b[0m\u001b[1;33m(\u001b[0m\u001b[0mkwargs\u001b[0m\u001b[1;33m,\u001b[0m \u001b[0mmlines\u001b[0m\u001b[1;33m.\u001b[0m\u001b[0mLine2D\u001b[0m\u001b[1;33m.\u001b[0m\u001b[0m_alias_map\u001b[0m\u001b[1;33m)\u001b[0m\u001b[1;33m\u001b[0m\u001b[1;33m\u001b[0m\u001b[0m\n\u001b[1;32m-> 1665\u001b[1;33m         \u001b[0mlines\u001b[0m \u001b[1;33m=\u001b[0m \u001b[1;33m[\u001b[0m\u001b[1;33m*\u001b[0m\u001b[0mself\u001b[0m\u001b[1;33m.\u001b[0m\u001b[0m_get_lines\u001b[0m\u001b[1;33m(\u001b[0m\u001b[1;33m*\u001b[0m\u001b[0margs\u001b[0m\u001b[1;33m,\u001b[0m \u001b[0mdata\u001b[0m\u001b[1;33m=\u001b[0m\u001b[0mdata\u001b[0m\u001b[1;33m,\u001b[0m \u001b[1;33m**\u001b[0m\u001b[0mkwargs\u001b[0m\u001b[1;33m)\u001b[0m\u001b[1;33m]\u001b[0m\u001b[1;33m\u001b[0m\u001b[1;33m\u001b[0m\u001b[0m\n\u001b[0m\u001b[0;32m   1666\u001b[0m         \u001b[1;32mfor\u001b[0m \u001b[0mline\u001b[0m \u001b[1;32min\u001b[0m \u001b[0mlines\u001b[0m\u001b[1;33m:\u001b[0m\u001b[1;33m\u001b[0m\u001b[1;33m\u001b[0m\u001b[0m\n\u001b[0;32m   1667\u001b[0m             \u001b[0mself\u001b[0m\u001b[1;33m.\u001b[0m\u001b[0madd_line\u001b[0m\u001b[1;33m(\u001b[0m\u001b[0mline\u001b[0m\u001b[1;33m)\u001b[0m\u001b[1;33m\u001b[0m\u001b[1;33m\u001b[0m\u001b[0m\n",
      "\u001b[1;32m~\\Anaconda3\\lib\\site-packages\\matplotlib\\axes\\_base.py\u001b[0m in \u001b[0;36m__call__\u001b[1;34m(self, *args, **kwargs)\u001b[0m\n\u001b[0;32m    223\u001b[0m                 \u001b[0mthis\u001b[0m \u001b[1;33m+=\u001b[0m \u001b[0margs\u001b[0m\u001b[1;33m[\u001b[0m\u001b[1;36m0\u001b[0m\u001b[1;33m]\u001b[0m\u001b[1;33m,\u001b[0m\u001b[1;33m\u001b[0m\u001b[1;33m\u001b[0m\u001b[0m\n\u001b[0;32m    224\u001b[0m                 \u001b[0margs\u001b[0m \u001b[1;33m=\u001b[0m \u001b[0margs\u001b[0m\u001b[1;33m[\u001b[0m\u001b[1;36m1\u001b[0m\u001b[1;33m:\u001b[0m\u001b[1;33m]\u001b[0m\u001b[1;33m\u001b[0m\u001b[1;33m\u001b[0m\u001b[0m\n\u001b[1;32m--> 225\u001b[1;33m             \u001b[1;32myield\u001b[0m \u001b[1;32mfrom\u001b[0m \u001b[0mself\u001b[0m\u001b[1;33m.\u001b[0m\u001b[0m_plot_args\u001b[0m\u001b[1;33m(\u001b[0m\u001b[0mthis\u001b[0m\u001b[1;33m,\u001b[0m \u001b[0mkwargs\u001b[0m\u001b[1;33m)\u001b[0m\u001b[1;33m\u001b[0m\u001b[1;33m\u001b[0m\u001b[0m\n\u001b[0m\u001b[0;32m    226\u001b[0m \u001b[1;33m\u001b[0m\u001b[0m\n\u001b[0;32m    227\u001b[0m     \u001b[1;32mdef\u001b[0m \u001b[0mget_next_color\u001b[0m\u001b[1;33m(\u001b[0m\u001b[0mself\u001b[0m\u001b[1;33m)\u001b[0m\u001b[1;33m:\u001b[0m\u001b[1;33m\u001b[0m\u001b[1;33m\u001b[0m\u001b[0m\n",
      "\u001b[1;32m~\\Anaconda3\\lib\\site-packages\\matplotlib\\axes\\_base.py\u001b[0m in \u001b[0;36m_plot_args\u001b[1;34m(self, tup, kwargs)\u001b[0m\n\u001b[0;32m    389\u001b[0m             \u001b[0mx\u001b[0m\u001b[1;33m,\u001b[0m \u001b[0my\u001b[0m \u001b[1;33m=\u001b[0m \u001b[0mindex_of\u001b[0m\u001b[1;33m(\u001b[0m\u001b[0mtup\u001b[0m\u001b[1;33m[\u001b[0m\u001b[1;33m-\u001b[0m\u001b[1;36m1\u001b[0m\u001b[1;33m]\u001b[0m\u001b[1;33m)\u001b[0m\u001b[1;33m\u001b[0m\u001b[1;33m\u001b[0m\u001b[0m\n\u001b[0;32m    390\u001b[0m \u001b[1;33m\u001b[0m\u001b[0m\n\u001b[1;32m--> 391\u001b[1;33m         \u001b[0mx\u001b[0m\u001b[1;33m,\u001b[0m \u001b[0my\u001b[0m \u001b[1;33m=\u001b[0m \u001b[0mself\u001b[0m\u001b[1;33m.\u001b[0m\u001b[0m_xy_from_xy\u001b[0m\u001b[1;33m(\u001b[0m\u001b[0mx\u001b[0m\u001b[1;33m,\u001b[0m \u001b[0my\u001b[0m\u001b[1;33m)\u001b[0m\u001b[1;33m\u001b[0m\u001b[1;33m\u001b[0m\u001b[0m\n\u001b[0m\u001b[0;32m    392\u001b[0m \u001b[1;33m\u001b[0m\u001b[0m\n\u001b[0;32m    393\u001b[0m         \u001b[1;32mif\u001b[0m \u001b[0mself\u001b[0m\u001b[1;33m.\u001b[0m\u001b[0mcommand\u001b[0m \u001b[1;33m==\u001b[0m \u001b[1;34m'plot'\u001b[0m\u001b[1;33m:\u001b[0m\u001b[1;33m\u001b[0m\u001b[1;33m\u001b[0m\u001b[0m\n",
      "\u001b[1;32m~\\Anaconda3\\lib\\site-packages\\matplotlib\\axes\\_base.py\u001b[0m in \u001b[0;36m_xy_from_xy\u001b[1;34m(self, x, y)\u001b[0m\n\u001b[0;32m    268\u001b[0m         \u001b[1;32mif\u001b[0m \u001b[0mx\u001b[0m\u001b[1;33m.\u001b[0m\u001b[0mshape\u001b[0m\u001b[1;33m[\u001b[0m\u001b[1;36m0\u001b[0m\u001b[1;33m]\u001b[0m \u001b[1;33m!=\u001b[0m \u001b[0my\u001b[0m\u001b[1;33m.\u001b[0m\u001b[0mshape\u001b[0m\u001b[1;33m[\u001b[0m\u001b[1;36m0\u001b[0m\u001b[1;33m]\u001b[0m\u001b[1;33m:\u001b[0m\u001b[1;33m\u001b[0m\u001b[1;33m\u001b[0m\u001b[0m\n\u001b[0;32m    269\u001b[0m             raise ValueError(\"x and y must have same first dimension, but \"\n\u001b[1;32m--> 270\u001b[1;33m                              \"have shapes {} and {}\".format(x.shape, y.shape))\n\u001b[0m\u001b[0;32m    271\u001b[0m         \u001b[1;32mif\u001b[0m \u001b[0mx\u001b[0m\u001b[1;33m.\u001b[0m\u001b[0mndim\u001b[0m \u001b[1;33m>\u001b[0m \u001b[1;36m2\u001b[0m \u001b[1;32mor\u001b[0m \u001b[0my\u001b[0m\u001b[1;33m.\u001b[0m\u001b[0mndim\u001b[0m \u001b[1;33m>\u001b[0m \u001b[1;36m2\u001b[0m\u001b[1;33m:\u001b[0m\u001b[1;33m\u001b[0m\u001b[1;33m\u001b[0m\u001b[0m\n\u001b[0;32m    272\u001b[0m             raise ValueError(\"x and y can be no greater than 2-D, but have \"\n",
      "\u001b[1;31mValueError\u001b[0m: x and y must have same first dimension, but have shapes (121,) and (11,)"
     ]
    },
    {
     "data": {
      "image/png": "[encoded data removed]",
      "text/plain": [
       "<Figure size 432x288 with 1 Axes>"
      ]
     },
     "metadata": {
      "needs_background": "light"
     },
     "output_type": "display_data"
    }
   ],
   "source": [
    "x=np.arange(1,122,1)\n",
    "plt.plot(x,surface_disp)\n",
    "plt.xticks(fontsize=16)\n",
    "plt.yticks(fontsize=16)\n",
    "plt.xlabel('X (Length of symmetrical right domain, ft)',fontsize=16)\n",
    "plt.ylabel('Displacement (ft)',fontsize=16)\n",
    "plt.savefig('disp.png', bbox_inches='tight', dpi=600)"
   ]
  },
  {
   "cell_type": "code",
   "execution_count": 30,
   "metadata": {},
   "outputs": [
    {
     "data": {
      "text/plain": [
       "(10, 10)"
      ]
     },
     "execution_count": 30,
     "metadata": {},
     "output_type": "execute_result"
    }
   ],
   "source": [
    "Z.shape"
   ]
  },
  {
   "cell_type": "code",
   "execution_count": 24,
   "metadata": {},
   "outputs": [],
   "source": [
    "import pandas\n",
    "z=pandas.DataFrame(Z)\n",
    "z.to_csv('z.csv')"
   ]
  },
  {
   "cell_type": "code",
   "execution_count": null,
   "metadata": {},
   "outputs": [],
   "source": []
  }
 ],
 "metadata": {
  "kernelspec": {
   "display_name": "Python 3",
   "language": "python",
   "name": "python3"
  },
  "language_info": {
   "codemirror_mode": {
    "name": "ipython",
    "version": 3
   },
   "file_extension": ".py",
   "mimetype": "text/x-python",
   "name": "python",
   "nbconvert_exporter": "python",
   "pygments_lexer": "ipython3",
   "version": "3.7.3"
  }
 },
 "nbformat": 4,
 "nbformat_minor": 5
}
